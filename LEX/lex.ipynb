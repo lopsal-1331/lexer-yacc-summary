{
 "cells": [
  {
   "cell_type": "markdown",
   "metadata": {},
   "source": [
    "# Lex \n",
    "\n",
    "Used to tokenize an input string. It splits the string into individuals tokens. Tokens usually have names to indicate what they are.\n",
    "\n",
    "**Example**"
   ]
  },
  {
   "cell_type": "code",
   "execution_count": null,
   "metadata": {},
   "outputs": [],
   "source": [
    "''' \n",
    "calclex.py\n",
    "\n",
    "tokenizer for simple expression for mathematical operations\n",
    "''' \n",
    "\n",
    "# imports\n",
    "import ply.lex as lex\n",
    "\n",
    "# List of token names. ALWAYS REQUIRED\n",
    "tokens = ( \n",
    "    \n",
    ")"
   ]
  }
 ],
 "metadata": {
  "language_info": {
   "name": "python"
  }
 },
 "nbformat": 4,
 "nbformat_minor": 2
}
