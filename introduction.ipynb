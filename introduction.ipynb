{
 "cells": [
  {
   "cell_type": "markdown",
   "metadata": {},
   "source": [
    "# Introduction\n",
    "\n",
    "**Goal of PLY**: supports LALR(1) parsing + input validation + error reporting + doagnostics. Faithful to lex/yacc tools.\n",
    "\n",
    "* Token and grammar specification\n",
    "* Parsing theory\n",
    "* Compilers \n",
    "\n",
    "# PLY Overview\n",
    "\n",
    "2 main modules: **lex.py and yacc.py**. Both in the package PLY. \n",
    "\n",
    "## Lex\n",
    "\n",
    "* Define tokens() - validate them\n",
    "\n",
    "## Yacc\n",
    "\n",
    "* Abstract Syntax tree (AST)\n",
    "* Implementation of simple one-pass compilers.\n",
    "* Error checking, error tokens, ambiguity resolution\n",
    "\n",
    "## Differences\n",
    "\n",
    "* does not involve separate code-generation process\n",
    "* No extra source files nor special compiler construction step"
   ]
  }
 ],
 "metadata": {
  "language_info": {
   "name": "python"
  }
 },
 "nbformat": 4,
 "nbformat_minor": 2
}
